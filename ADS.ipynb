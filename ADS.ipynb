{
 "cells": [
  {
   "cell_type": "markdown",
   "source": [
    "# L 4 \n",
    "\n",
    "- Solving recurrence equations for runtime analysis of recursive algorithms"
   ],
   "metadata": {}
  },
  {
   "cell_type": "markdown",
   "source": [
    "<details>\n",
    "<summary>How can you describe the running time of a recursive algorithm?</summary>\n",
    "<br>\n",
    "By a recurrence equation that describes a function in terms of its value on smaller input.\n",
    "</details>"
   ],
   "metadata": {}
  },
  {
   "cell_type": "markdown",
   "source": [
    "# L 5\n",
    "\n",
    "Recording [here](https://virtuale.unibo.it/mod/page/view.php?id=542187)\n",
    "\n",
    "- Heaps \n",
    "- Heapsort\n",
    "- Priority queues"
   ],
   "metadata": {}
  },
  {
   "cell_type": "markdown",
   "source": [
    "<details>\n",
    "<summary>?</summary>\n",
    "<br>\n",
    "\n",
    "</details>"
   ],
   "metadata": {}
  },
  {
   "cell_type": "markdown",
   "source": [
    "<details>\n",
    "<summary>What is a full binary tree?</summary>\n",
    "<br>\n",
    "A binary tree in which each\n",
    "\n",
    "-  node is either a leaf, or \n",
    "-  has a degree that is exactly 2 (number of children). \n",
    "-  Put differently: each node has either degree zero or degree 2.\n",
    "</details>"
   ],
   "metadata": {}
  },
  {
   "cell_type": "markdown",
   "source": [
    "<details>\n",
    "<summary>Complete binary tree?</summary>\n",
    "<br>\n",
    "A binary tree in which ALL leaves have the same depth \n",
    "\n",
    "and all internal nodes have degree 2.\n",
    "\n",
    "You never create a new level before finishing the previous level.\n",
    "\n",
    "All leave nodes must be at the same level.\n",
    "</details>"
   ],
   "metadata": {}
  },
  {
   "cell_type": "markdown",
   "source": [
    "<details>\n",
    "<summary>What is a heap?</summary>\n",
    "<br>\n",
    "A nearly complete binary tree with the two following properties;\n",
    "\n",
    "1. Structural property: all levels are full, except possibly the last one, which is filled from left to right.\n",
    "2. Order/heap property: for any node $i$ parent($i$) $\\geq$ i.\n",
    "</details>"
   ],
   "metadata": {}
  },
  {
   "cell_type": "markdown",
   "source": [
    "# What is the difference between **complete binary tree** and a heap? Ana, Thomas?"
   ],
   "metadata": {}
  },
  {
   "cell_type": "markdown",
   "source": [],
   "metadata": {}
  },
  {
   "cell_type": "code",
   "execution_count": null,
   "source": [
    "<details>\n",
    "<summary>What is the height of a heap?</summary>\n",
    "<br>\n",
    "It is $\n",
    "</details>"
   ],
   "outputs": [],
   "metadata": {}
  },
  {
   "cell_type": "markdown",
   "source": [
    "test"
   ],
   "metadata": {}
  }
 ],
 "metadata": {
  "kernelspec": {
   "display_name": "Python 3",
   "language": "python",
   "name": "python3"
  },
  "language_info": {
   "codemirror_mode": {
    "name": "ipython",
    "version": 3
   },
   "file_extension": ".py",
   "mimetype": "text/x-python",
   "name": "python",
   "nbconvert_exporter": "python",
   "pygments_lexer": "ipython3",
   "version": "3.7.2"
  }
 },
 "nbformat": 4,
 "nbformat_minor": 4
}